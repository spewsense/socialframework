{
 "cells": [
  {
   "cell_type": "code",
   "execution_count": 3,
   "metadata": {},
   "outputs": [
    {
     "name": "stdout",
     "output_type": "stream",
     "text": [
      "[<__main__.Person object at 0x000002234ED64DA0>, <__main__.Person object at 0x000002234ED64DA0>, <__main__.Person object at 0x000002234ED64DA0>, <__main__.Person object at 0x000002234ED64DA0>, <__main__.Person object at 0x000002234ED64DA0>, <__main__.Person object at 0x000002234ED64DA0>, <__main__.Person object at 0x000002234ED64DA0>, <__main__.Person object at 0x000002234ED64DA0>, <__main__.Person object at 0x000002234ED64DA0>, <__main__.Person object at 0x000002234ED64DA0>, <__main__.Person object at 0x000002234ED64DA0>, <__main__.Person object at 0x000002234ED64DA0>, <__main__.Person object at 0x000002234ED64DA0>, <__main__.Person object at 0x000002234ED64DA0>, <__main__.Person object at 0x000002234ED64DA0>, <__main__.Person object at 0x000002234ED64DA0>, <__main__.Person object at 0x000002234ED64DA0>, <__main__.Person object at 0x000002234ED64DA0>, <__main__.Person object at 0x000002234ED64DA0>, <__main__.Person object at 0x000002234ED64DA0>, <__main__.Person object at 0x000002234ED64DA0>, <__main__.Person object at 0x000002234ED64DA0>, <__main__.Person object at 0x000002234ED64DA0>, <__main__.Person object at 0x000002234ED64DA0>, <__main__.Person object at 0x000002234ED64DA0>, <__main__.Person object at 0x000002234ED64DA0>, <__main__.Person object at 0x000002234ED64DA0>, <__main__.Person object at 0x000002234ED64DA0>, <__main__.Person object at 0x000002234ED64DA0>, <__main__.Person object at 0x000002234ED64DA0>, <__main__.Person object at 0x000002234ED64DA0>, <__main__.Person object at 0x000002234ED64DA0>, <__main__.Person object at 0x000002234ED64DA0>, <__main__.Person object at 0x000002234ED64DA0>, <__main__.Person object at 0x000002234ED64DA0>, <__main__.Person object at 0x000002234ED64DA0>, <__main__.Person object at 0x000002234ED64DA0>, <__main__.Person object at 0x000002234ED64DA0>, <__main__.Person object at 0x000002234ED64DA0>, <__main__.Person object at 0x000002234ED64DA0>, <__main__.Person object at 0x000002234ED64DA0>, <__main__.Person object at 0x000002234ED64DA0>, <__main__.Person object at 0x000002234ED64DA0>, <__main__.Person object at 0x000002234ED64DA0>, <__main__.Person object at 0x000002234ED64DA0>, <__main__.Person object at 0x000002234ED64DA0>, <__main__.Person object at 0x000002234ED64DA0>, <__main__.Person object at 0x000002234ED64DA0>, <__main__.Person object at 0x000002234ED64DA0>, <__main__.Person object at 0x000002234ED64DA0>, <__main__.Person object at 0x000002234ED64DA0>, <__main__.Person object at 0x000002234ED64DA0>, <__main__.Person object at 0x000002234ED64DA0>, <__main__.Person object at 0x000002234ED64DA0>, <__main__.Person object at 0x000002234ED64DA0>, <__main__.Person object at 0x000002234ED64DA0>, <__main__.Person object at 0x000002234ED64DA0>, <__main__.Person object at 0x000002234ED64DA0>, <__main__.Person object at 0x000002234ED64DA0>, <__main__.Person object at 0x000002234ED64DA0>, <__main__.Person object at 0x000002234ED64DA0>, <__main__.Person object at 0x000002234ED64DA0>, <__main__.Person object at 0x000002234ED64DA0>, <__main__.Person object at 0x000002234ED64DA0>, <__main__.Person object at 0x000002234ED64DA0>, <__main__.Person object at 0x000002234ED64DA0>, <__main__.Person object at 0x000002234ED64DA0>, <__main__.Person object at 0x000002234ED64DA0>, <__main__.Person object at 0x000002234ED64DA0>, <__main__.Person object at 0x000002234ED64DA0>, <__main__.Person object at 0x000002234ED64DA0>, <__main__.Person object at 0x000002234ED64DA0>, <__main__.Person object at 0x000002234ED64DA0>, <__main__.Person object at 0x000002234ED64DA0>, <__main__.Person object at 0x000002234ED64DA0>, <__main__.Person object at 0x000002234ED64DA0>, <__main__.Person object at 0x000002234ED64DA0>, <__main__.Person object at 0x000002234ED64DA0>, <__main__.Person object at 0x000002234ED64DA0>, <__main__.Person object at 0x000002234ED64DA0>, <__main__.Person object at 0x000002234ED64DA0>, <__main__.Person object at 0x000002234ED64DA0>, <__main__.Person object at 0x000002234ED64DA0>, <__main__.Person object at 0x000002234ED64DA0>, <__main__.Person object at 0x000002234ED64DA0>, <__main__.Person object at 0x000002234ED64DA0>, <__main__.Person object at 0x000002234ED64DA0>, <__main__.Person object at 0x000002234ED64DA0>, <__main__.Person object at 0x000002234ED64DA0>, <__main__.Person object at 0x000002234ED64DA0>, <__main__.Person object at 0x000002234ED64DA0>, <__main__.Person object at 0x000002234ED64DA0>, <__main__.Person object at 0x000002234ED64DA0>, <__main__.Person object at 0x000002234ED64DA0>, <__main__.Person object at 0x000002234ED64DA0>, <__main__.Person object at 0x000002234ED64DA0>, <__main__.Person object at 0x000002234ED64DA0>, <__main__.Person object at 0x000002234ED64DA0>, <__main__.Person object at 0x000002234ED64DA0>, <__main__.Person object at 0x000002234ED64DA0>]\n"
     ]
    }
   ],
   "source": [
    "%matplotlib inline\n",
    "import matplotlib.pyplot as plt\n",
    "import random\n",
    "import math\n",
    "\n",
    "class Person:\n",
    "    def __init__(self, wealth):\n",
    "        self.wealth = wealth\n",
    "        \n",
    "    def trade(self, counterparty):\n",
    "        \"\"\"\n",
    "        simulate two people having a trade interaction with a winner and a loser\n",
    "        \"\"\"\n",
    "        \n",
    "        # trade for half of whoever has the least money rounded down\n",
    "        trade_amount = math.floor(min(self.wealth, counterparty.wealth) / 2)\n",
    "        if bool(random.getrandbits(1)): # you trade well\n",
    "            self.wealth += trade_amount\n",
    "            counterparty -= trade_amount\n",
    "        else: #you trade badly\n",
    "            counterparty.wealth += trade_amount\n",
    "            self.wealth -= trade_amount\n",
    "            \n",
    "class Society:\n",
    "    \n",
    "    def __init__(self, number_of_people):\n",
    "        self.people = [Person(100)] * number_of_people\n",
    "        \n",
    "    \n",
    "    def evolve(self, trades):\n",
    "        for i in range(trades):\n",
    "            first_person = random.choice(self.people)\n",
    "            second_person = random.choice(self.people)\n",
    "    \n",
    "s = Society(100)\n",
    "s.evolve(500)\n",
    "\n",
    "    \n",
    "\n"
   ]
  },
  {
   "cell_type": "code",
   "execution_count": null,
   "metadata": {},
   "outputs": [],
   "source": []
  }
 ],
 "metadata": {
  "kernelspec": {
   "display_name": "Python 3",
   "language": "python",
   "name": "python3"
  },
  "language_info": {
   "codemirror_mode": {
    "name": "ipython",
    "version": 3
   },
   "file_extension": ".py",
   "mimetype": "text/x-python",
   "name": "python",
   "nbconvert_exporter": "python",
   "pygments_lexer": "ipython3",
   "version": "3.6.7"
  }
 },
 "nbformat": 4,
 "nbformat_minor": 2
}
