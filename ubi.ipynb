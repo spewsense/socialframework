{
 "cells": [
  {
   "cell_type": "code",
   "execution_count": 24,
   "metadata": {
    "scrolled": true
   },
   "outputs": [
    {
     "name": "stdout",
     "output_type": "stream",
     "text": [
      "starting\n",
      "(100, 1)\n",
      "finished\n"
     ]
    },
    {
     "data": {
      "image/png": "[encoded data removed]",
      "text/plain": [
       "<Figure size 432x288 with 1 Axes>"
      ]
     },
     "metadata": {
      "needs_background": "light"
     },
     "output_type": "display_data"
    }
   ],
   "source": [
    "%matplotlib inline\n",
    "import matplotlib.pyplot as plt\n",
    "import random\n",
    "import math\n",
    "import pandas as pd\n",
    "\n",
    "class Person:\n",
    "    def __init__(self, id, wealth):\n",
    "        self.id = id\n",
    "        self.wealth = wealth\n",
    "        \n",
    "    def trade(self, counterparty):\n",
    "        \"\"\"\n",
    "        simulate two people having a trade interaction with a winner and a loser\n",
    "        \"\"\"\n",
    "        # print(\"p {0} and p{1} trading\".format(self.id, counterparty.id))\n",
    "        # trade for half of whoever has the least money rounded down\n",
    "        trade_amount = math.floor(min(self.wealth, counterparty.wealth) / 2)\n",
    "        if bool(random.getrandbits(1)): # you trade well\n",
    "            self.wealth += trade_amount\n",
    "            counterparty.wealth -= trade_amount\n",
    "        else: #you trade badly\n",
    "            counterparty.wealth += trade_amount\n",
    "            self.wealth -= trade_amount\n",
    "        # print(\"p {0} w{1} and p{2} w{3} left with\".format(self.id, self.wealth, counterparty.id, counterparty.wealth))\n",
    "            \n",
    "class Society:\n",
    "    \n",
    "    def __init__(self, number_of_people):\n",
    "        self.people = []\n",
    "        for i in range(number_of_people):\n",
    "            self.people.append(Person(i+1, 100))\n",
    "               \n",
    "    \n",
    "    def evolve(self, trades, ubi=False):\n",
    "        for i in range(trades):\n",
    "            first_person = random.choice(self.people)\n",
    "            second_person = random.choice(self.people)\n",
    "            first_person.trade(second_person)\n",
    "        if ubi:\n",
    "            for p in self.people: \n",
    "                p.wealth += 5\n",
    "   \n",
    "print('starting')\n",
    "s = Society(100)\n",
    "s.evolve(1000, True)\n",
    "wealth_dist = list(map(lambda x: x.wealth, s.people))\n",
    "df = pd.DataFrame.from_dict(wealth_dist)\n",
    "print(df.shape)\n",
    "df.hist()\n",
    "#plt.hist(df, bins=100)\n",
    "#plt.show()\n",
    "print('finished')\n",
    "\n"
   ]
  },
  {
   "cell_type": "code",
   "execution_count": null,
   "metadata": {},
   "outputs": [],
   "source": []
  }
 ],
 "metadata": {
  "kernelspec": {
   "display_name": "Python 3",
   "language": "python",
   "name": "python3"
  },
  "language_info": {
   "codemirror_mode": {
    "name": "ipython",
    "version": 3
   },
   "file_extension": ".py",
   "mimetype": "text/x-python",
   "name": "python",
   "nbconvert_exporter": "python",
   "pygments_lexer": "ipython3",
   "version": "3.6.6"
  }
 },
 "nbformat": 4,
 "nbformat_minor": 2
}
